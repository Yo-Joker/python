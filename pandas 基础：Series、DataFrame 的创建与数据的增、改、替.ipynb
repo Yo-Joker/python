{
 "cells": [
  {
   "cell_type": "markdown",
   "metadata": {},
   "source": [
    "任务详情\n",
    "\n",
    "结合 numpy 创建一个 (3, 10) 区间内的包含 5 个随机整数的一维数组 ndarray 为 data1，并以此 data 再创建索引为 a, b, c, d, e 的 Series 为 s1（任务提示：利用 np.random.randint() 创建随机矩阵。阅读参考文章①②）\n",
    "\n",
    "请分别用位置索引和标签索引的方式提取是 s1 的后三个数（阅读参考文章③）\n",
    "\n",
    "请用字典的形式创建一个DataFrame，将下方表格数据存储进去 （任务提示：创建 DataFrame 有多种方式，本题以字典形式创建。阅读参考文章④）\n",
    "\n",
    "![Jupyter](https://cdn.py2china.cn/study-group/pandas/3-1.png)\n",
    "\n",
    "结合 numpy 创建一个 (5, 15) 区间内，形状为 5 行 3 列的随机整数数组为 data2，并以此为基础创建 index 为 ['a', 'c', 'e', 'f', 'h']，columns 为 ['one', 'two', 'three'] 的 DataFrame，并命名为 df_test（阅读参考文章④）\n",
    "\n",
    "运用 loc 索引以及替换的知识，按下列要求对 df_test 进行增、改、替操作。完成上述要求后，将该数据命名为 df_change（任务提示：一般用 df.loc[行，列] = ？ 做替换。阅读参考文章⑤⑥）\n",
    "\n",
    "(1) 将 a 行 one 列处替换成空值\n",
    "\n",
    "(2) 将 c 行 two 列处替换成 -99\n",
    "\n",
    "(3) 将 c 行 three 列处替换成 -99\n",
    "\n",
    "(4) 将 a 行 two 列处替换成 -100\n",
    "\n",
    "(5) 新增 four 列，值为 test\n",
    "\n",
    "(6) 重置索引为 ['a', 'b', 'c', 'd', 'e', 'f', 'g', 'h']\n",
    "\n",
    "删除 df_change 中存在缺失值的所有行（阅读参考文章⑦）\n",
    "\n",
    "删除 df_change 中所有值都为 NaN 值的行（阅读参考文章⑦）\n",
    "\n",
    "df_change 中的所有缺失值（即 NaN）以 0 填充（阅读参考文章⑦）\n",
    "\n",
    "删除 df_change中的重复行（阅读参考文章⑧）"
   ]
  },
  {
   "cell_type": "code",
   "execution_count": 2,
   "metadata": {},
   "outputs": [],
   "source": [
    "import numpy as np\n",
    "import pandas as pd"
   ]
  },
  {
   "cell_type": "code",
   "execution_count": 11,
   "metadata": {},
   "outputs": [
    {
     "name": "stdout",
     "output_type": "stream",
     "text": [
      "a    8\n",
      "b    6\n",
      "c    7\n",
      "d    3\n",
      "e    4\n",
      "dtype: int32\n",
      "c    7\n",
      "d    3\n",
      "e    4\n",
      "dtype: int32\n",
      "c    7\n",
      "d    3\n",
      "e    4\n",
      "dtype: int32\n"
     ]
    }
   ],
   "source": [
    "np.random.seed(1) #随机数固定\n",
    "data1=np.random.randint(3,10,5)\n",
    "s1=pd.Series(data1,index=['a','b','c','d','e'])\n",
    "print(s1)\n",
    "print(s1[-3:]) #位置索引\n",
    "print(s1['c':'e'])#标签索引"
   ]
  },
  {
   "cell_type": "code",
   "execution_count": 13,
   "metadata": {},
   "outputs": [
    {
     "name": "stdout",
     "output_type": "stream",
     "text": [
      "   year  price\n",
      "0  2017     10\n",
      "1  2018     20\n",
      "2  2019     30\n"
     ]
    }
   ],
   "source": [
    "dic={'year':[2017,2018,2019],'price':[10,20,30]}\n",
    "df=pd.DataFrame(dic)\n",
    "print(df)"
   ]
  },
  {
   "cell_type": "code",
   "execution_count": 19,
   "metadata": {},
   "outputs": [
    {
     "name": "stdout",
     "output_type": "stream",
     "text": [
      "   one  two  three\n",
      "a   10   13     14\n",
      "c   10    5      5\n",
      "e    6   12     11\n",
      "f   14    7      9\n",
      "h   10    7      9\n"
     ]
    }
   ],
   "source": [
    "np.random.seed(1)\n",
    "data2=np.random.randint(5,15,5*3).reshape(5,3)\n",
    "df_test=pd.DataFrame(data2,index=['a','c','e','f','h'],columns=['one','two','three'])\n",
    "print(df_test)"
   ]
  },
  {
   "cell_type": "markdown",
   "metadata": {},
   "source": [
    "(1) 将 a 行 one 列处替换成空值\n",
    "\n",
    "(2) 将 c 行 two 列处替换成 -99\n",
    "\n",
    "(3) 将 c 行 three 列处替换成 -99\n",
    "\n",
    "(4) 将 a 行 two 列处替换成 -100\n",
    "\n",
    "(5) 新增 four 列，值为 test\n",
    "\n",
    "(6) 重置索引为 ['a', 'b', 'c', 'd', 'e', 'f', 'g', 'h']"
   ]
  },
  {
   "cell_type": "code",
   "execution_count": 26,
   "metadata": {},
   "outputs": [
    {
     "name": "stdout",
     "output_type": "stream",
     "text": [
      "    one    two  three  four\n",
      "a   NaN -100.0   14.0  test\n",
      "b   NaN    NaN    NaN   NaN\n",
      "c  10.0  -99.0  -99.0  test\n",
      "d   NaN    NaN    NaN   NaN\n",
      "e   6.0   12.0   11.0  test\n",
      "f  14.0    7.0    9.0  test\n",
      "g   NaN    NaN    NaN   NaN\n",
      "h  10.0    7.0    9.0  test\n"
     ]
    }
   ],
   "source": [
    "df_test.at['a','one']=None\n",
    "df_test.loc['c','two':'three']=-99\n",
    "df_test.at['a','two']=-100\n",
    "df_test.loc[:,'four']='test'\n",
    "df_change=df_test.reindex(index=['a','b','c','d','e','f','g','h'])\n",
    "print(df_change)"
   ]
  },
  {
   "cell_type": "code",
   "execution_count": 33,
   "metadata": {},
   "outputs": [
    {
     "name": "stdout",
     "output_type": "stream",
     "text": [
      "    one    two  three  four\n",
      "a   NaN -100.0   14.0  test\n",
      "b   NaN    NaN    NaN   NaN\n",
      "c  10.0  -99.0  -99.0  test\n",
      "e   6.0   12.0   11.0  test\n",
      "f  14.0    7.0    9.0  test\n",
      "h  10.0    7.0    9.0  test\n",
      "    one    two  three  four\n",
      "a   0.0 -100.0   14.0  test\n",
      "c  10.0  -99.0  -99.0  test\n",
      "e   6.0   12.0   11.0  test\n",
      "f  14.0    7.0    9.0  test\n",
      "h  10.0    7.0    9.0  test\n"
     ]
    }
   ],
   "source": [
    "df_change=df_change.drop_duplicates() #这个就用来看下去重复行效果\n",
    "new_df=df_change.dropna(how='all')\n",
    "new_df=new_df.fillna(0)\n",
    "new_df=new_df.drop_duplicates()\n",
    "print(df_change) #这个就用来看下去重复行效果\n",
    "print(new_df)"
   ]
  },
  {
   "cell_type": "code",
   "execution_count": null,
   "metadata": {},
   "outputs": [],
   "source": []
  }
 ],
 "metadata": {
  "kernelspec": {
   "display_name": "Python 3",
   "language": "python",
   "name": "python3"
  },
  "language_info": {
   "codemirror_mode": {
    "name": "ipython",
    "version": 3
   },
   "file_extension": ".py",
   "mimetype": "text/x-python",
   "name": "python",
   "nbconvert_exporter": "python",
   "pygments_lexer": "ipython3",
   "version": "3.8.3"
  }
 },
 "nbformat": 4,
 "nbformat_minor": 4
}
