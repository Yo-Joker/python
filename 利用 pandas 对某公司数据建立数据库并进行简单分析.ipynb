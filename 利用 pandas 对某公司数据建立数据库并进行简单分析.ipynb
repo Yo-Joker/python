{
 "cells": [
  {
   "cell_type": "markdown",
   "metadata": {},
   "source": [
    "任务一：有 6 家上市公司的股票代码、市值与市盈率数据如下，请按照下面要求利用 pandas 对该组数据进行数据分析统计。\n",
    "![Jupyter](https://cdn.py2china.cn/study-group/pandas/5-1.png)"
   ]
  },
  {
   "cell_type": "markdown",
   "metadata": {},
   "source": [
    "请根据上方表格数据创建一个 DataFrame 存储公司的数据，数据源如下所示，数据命名为 df_company（阅读参考文章①）"
   ]
  },
  {
   "cell_type": "code",
   "execution_count": 36,
   "metadata": {},
   "outputs": [],
   "source": [
    "import numpy as np\n",
    "import pandas as pd\n",
    "import matplotlib.pyplot as plt"
   ]
  },
  {
   "cell_type": "code",
   "execution_count": 2,
   "metadata": {},
   "outputs": [],
   "source": [
    "dic1={\n",
    "    'marketcap': [449, 371, 237, 21313, 1369, 823], \n",
    "    'pe': [8.31, 15.36, 16.01, 7.16, 7.59, 6.3],\n",
    "    'code': ['600926', '002958', '601128', '601398', '601229', '600919']\n",
    "}\n",
    "\n",
    "index = ['杭州银行', '青农商行', '常熟银行', '工商银行', '上海银行', '江苏银行']"
   ]
  },
  {
   "cell_type": "code",
   "execution_count": 9,
   "metadata": {},
   "outputs": [],
   "source": [
    "df_company=pd.DataFrame(dic1,index)\n",
    "df_company.index.name='company'"
   ]
  },
  {
   "cell_type": "markdown",
   "metadata": {},
   "source": [
    "选出市值低于 2000 亿的所有公司（任务提示：使用布尔形式选取数据，阅读参考文章②③）"
   ]
  },
  {
   "cell_type": "code",
   "execution_count": 19,
   "metadata": {},
   "outputs": [
    {
     "name": "stdout",
     "output_type": "stream",
     "text": [
      "         marketcap     pe    code\n",
      "company                          \n",
      "杭州银行           449   8.31  600926\n",
      "青农商行           371  15.36  002958\n",
      "常熟银行           237  16.01  601128\n",
      "上海银行          1369   7.59  601229\n",
      "江苏银行           823   6.30  600919\n"
     ]
    }
   ],
   "source": [
    "print(df_company.loc[df_company.marketcap<2000])"
   ]
  },
  {
   "cell_type": "markdown",
   "metadata": {},
   "source": [
    "选出市值 < 2000亿，并且市盈率 < 10 的所有公司（任务提示：使用布尔形式选取数据，阅读参考文章②③）"
   ]
  },
  {
   "cell_type": "code",
   "execution_count": 24,
   "metadata": {},
   "outputs": [
    {
     "name": "stdout",
     "output_type": "stream",
     "text": [
      "         marketcap    pe    code\n",
      "company                         \n",
      "杭州银行           449  8.31  600926\n",
      "上海银行          1369  7.59  601229\n",
      "江苏银行           823  6.30  600919\n"
     ]
    }
   ],
   "source": [
    "print(df_company.loc[df_company.marketcap<2000].loc[df_company.pe<10]) #为什么这里第二个loc不加会警告index, 因为会引起语义不明，所以这种方式或下一种"
   ]
  },
  {
   "cell_type": "code",
   "execution_count": 56,
   "metadata": {},
   "outputs": [
    {
     "name": "stdout",
     "output_type": "stream",
     "text": [
      "         marketcap    pe    code\n",
      "company                         \n",
      "杭州银行           449  8.31  600926\n",
      "上海银行          1369  7.59  601229\n",
      "江苏银行           823  6.30  600919\n"
     ]
    }
   ],
   "source": [
    "print(df_company[(df_company.marketcap<2000) & (df_company.pe<10)]) #切df尽量用&|， 用and or偶尔会报错"
   ]
  },
  {
   "cell_type": "markdown",
   "metadata": {},
   "source": [
    "假设其中一家公司股票的每日收盘价数据，如下\n",
    "<code>\n",
    "import numpy as np\n",
    "​\n",
    "dr = pd.date_range(start='2019-01-02', periods=100)\n",
    "​\n",
    "data = np.random.randn(100).cumsum()\n",
    "​\n",
    "close = data - np.min(data)\n",
    "​\n",
    "df = pd.DataFrame({\"close\": close}, index=dr)\n",
    "​\n",
    "df\n",
    "</code>\n",
    "请计算收盘价的五日平均，并新增一列存储（任务提示：使用窗函数rolling计算移动平均，阅读参考文章④）"
   ]
  },
  {
   "cell_type": "code",
   "execution_count": 35,
   "metadata": {},
   "outputs": [
    {
     "name": "stdout",
     "output_type": "stream",
     "text": [
      "               close\n",
      "2019-01-02  7.097882\n",
      "2019-01-03  5.626726\n",
      "2019-01-04  4.796554\n",
      "2019-01-05  3.915976\n",
      "2019-01-06  3.636878\n",
      "...              ...\n",
      "2019-04-07  1.873161\n",
      "2019-04-08  0.000000\n",
      "2019-04-09  0.920615\n",
      "2019-04-10  0.885247\n",
      "2019-04-11  2.995852\n",
      "\n",
      "[100 rows x 1 columns]\n"
     ]
    }
   ],
   "source": [
    "dr = pd.date_range(start='2019-01-02', periods=100)\n",
    "\n",
    "data = np.random.randn(100).cumsum()\n",
    "\n",
    "close = data - np.min(data)\n",
    "\n",
    "df = pd.DataFrame({\"close\": close}, index=dr)\n",
    "print(df)"
   ]
  },
  {
   "cell_type": "code",
   "execution_count": 44,
   "metadata": {},
   "outputs": [
    {
     "name": "stdout",
     "output_type": "stream",
     "text": [
      "               close      mean\n",
      "2019-01-02  7.097882       NaN\n",
      "2019-01-03  5.626726       NaN\n",
      "2019-01-04  4.796554       NaN\n",
      "2019-01-05  3.915976       NaN\n",
      "2019-01-06  3.636878  5.014803\n",
      "...              ...       ...\n",
      "2019-04-07  1.873161  1.754700\n",
      "2019-04-08  0.000000  1.335044\n",
      "2019-04-09  0.920615  1.194586\n",
      "2019-04-10  0.885247  0.951531\n",
      "2019-04-11  2.995852  1.334975\n",
      "\n",
      "[100 rows x 2 columns]\n"
     ]
    },
    {
     "data": {
      "image/png": "[encoded data removed]",
      "text/plain": [
       "<Figure size 432x288 with 2 Axes>"
      ]
     },
     "metadata": {
      "needs_background": "light"
     },
     "output_type": "display_data"
    }
   ],
   "source": [
    "df.mean=df.rolling(5).mean()\n",
    "df[['close','mean']].plot(subplots=True,grid=True)\n",
    "print(df)\n",
    "plt.show()"
   ]
  },
  {
   "cell_type": "markdown",
   "metadata": {},
   "source": [
    "任务二：请将下方表格数据存储在 DataFrame 中，然后按要求完成练习\n",
    "<img src='https://cdn.py2china.cn/study-group/pandas/5-2.png'/>\n",
    "创建 DataFrame 存储数据（提示：此表格中，元素依次递增，可先利用np.array创建一维数组，再通过reshape方法变为二维数组，最后利用二维数组直接创建DataFrame，阅读参考文章①）"
   ]
  },
  {
   "cell_type": "code",
   "execution_count": 57,
   "metadata": {},
   "outputs": [
    {
     "name": "stdout",
     "output_type": "stream",
     "text": [
      "   第1列  第2列  第3列  第4列\n",
      "a    1    2    3    4\n",
      "b    5    6    7    8\n",
      "c    9   10   11   12\n",
      "d   13   14   15   16\n"
     ]
    }
   ],
   "source": [
    "arr=np.arange(1,17).reshape(4,-1)\n",
    "ind='abcd'\n",
    "col=['第1列','第2列', '第3列', '第4列']\n",
    "df2=pd.DataFrame(arr,index=list(ind),columns=col)\n",
    "print(df2)"
   ]
  },
  {
   "cell_type": "markdown",
   "metadata": {},
   "source": [
    "请利用 apply 函数，统计出每一行的总和（阅读参考文章⑤⑥）"
   ]
  },
  {
   "cell_type": "code",
   "execution_count": 61,
   "metadata": {},
   "outputs": [
    {
     "data": {
      "text/plain": [
       "a     20.0\n",
       "b     52.0\n",
       "c     84.0\n",
       "d    116.0\n",
       "dtype: float64"
      ]
     },
     "execution_count": 61,
     "metadata": {},
     "output_type": "execute_result"
    }
   ],
   "source": [
    "df2.apply(lambda x:x.sum(),axis=1)"
   ]
  },
  {
   "cell_type": "markdown",
   "metadata": {},
   "source": [
    "请生成第 5 列数据，使其满足：当第 3 列数据 > 10 时，第 5 列数据等于第 1 、第 2 列数据之和；否则第 5 列数据等于第 3 列数据（阅读参考文章⑤⑥）"
   ]
  },
  {
   "cell_type": "code",
   "execution_count": 71,
   "metadata": {},
   "outputs": [
    {
     "name": "stdout",
     "output_type": "stream",
     "text": [
      "   第1列  第2列  第3列  第4列   第5列\n",
      "a    1    2    3    4   4.0\n",
      "b    5    6    7    8   8.0\n",
      "c    9   10   11   12  21.0\n",
      "d   13   14   15   16  29.0\n"
     ]
    }
   ],
   "source": [
    "df2['第5列']=df2.apply(lambda x:x[1]+x[2] if x[3]>10 else x[3], axis=1)\n",
    "print(df2)"
   ]
  }
 ],
 "metadata": {
  "kernelspec": {
   "display_name": "Python 3",
   "language": "python",
   "name": "python3"
  },
  "language_info": {
   "codemirror_mode": {
    "name": "ipython",
    "version": 3
   },
   "file_extension": ".py",
   "mimetype": "text/x-python",
   "name": "python",
   "nbconvert_exporter": "python",
   "pygments_lexer": "ipython3",
   "version": "3.8.3"
  }
 },
 "nbformat": 4,
 "nbformat_minor": 4
}
