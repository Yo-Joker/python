{
 "cells": [
  {
   "cell_type": "markdown",
   "metadata": {},
   "source": [
    "现有 iris 数据集中的花萼长度数据一份，已保存为 csv 格式，请按下方要求先对数据进行清洗整理，再进行相关统计分析。\n",
    "\n",
    "利用 numpy 读取 csv 文件数据，命名为 iris，并以 ndarry 形式展示出来（阅读参考文章①）\n",
    "\n",
    "找出原数据中最小值和最大值出现的位置（任务提示：numpy 中 argmax 和 argmin 函数可以定位到最大值和最小值的索引位置。阅读参考文章②）\n",
    "\n",
    "利用 numpy 找出花萼最小值与最大值（阅读参考文章②）\n",
    "\n",
    "将 iris 原数据进行从小到大排序，并以 ndarray 形式展示出来（任务提示：排序函数为 sort。阅读参考文章③）\n",
    "\n",
    "去除该组数据中的重复值（任务提示：去重函数为 np.unique()。阅读参考文章④）\n",
    "\n",
    "请利用 numpy 计算出该组花萼的平均长度（任务提示：平均函数为 np.mean()。阅读参考文章⑤）\n",
    "\n",
    "用numpy计算出该组数据的标准差和方差（任务提示：标准差可以衡量数据的波动性。阅读参考文章⑥）\n",
    "\n",
    "求出所有花瓣累积总和（阅读参考文章⑦）\n",
    "\n",
    "对已排序的 iris 数据进行累积求和运算（任务提示：累积求和与求和有区别，累积求和是前几个数相加成新的元素从而组成新的数组。阅读参考文章⑧⑨）\n",
    "\n",
    "统计花萼长度比平均值 5.84 高的有多少（任务提示：例如 (arr>1).sum() 可统计大于1的个数）"
   ]
  },
  {
   "cell_type": "code",
   "execution_count": 27,
   "metadata": {},
   "outputs": [],
   "source": [
    "import numpy as np\n",
    "import requests"
   ]
  },
  {
   "cell_type": "code",
   "execution_count": 28,
   "metadata": {},
   "outputs": [],
   "source": [
    "path='https://gitee.com/crossin/data/raw/master/task%202/iris.csv'\n",
    "csvfile=requests.get(path).text\n",
    "with open(r'.\\csvfile.csv','w',encoding='utf-8') as f:\n",
    "        f.write(csvfile)"
   ]
  },
  {
   "cell_type": "code",
   "execution_count": 38,
   "metadata": {},
   "outputs": [],
   "source": [
    "with open (r'.\\csvfile.csv',encoding='utf-8') as f:\n",
    "    global iris\n",
    "    iris=np.loadtxt(f)"
   ]
  },
  {
   "cell_type": "code",
   "execution_count": 40,
   "metadata": {},
   "outputs": [
    {
     "name": "stdout",
     "output_type": "stream",
     "text": [
      "max: 7.9\n",
      "min: 4.3\n"
     ]
    }
   ],
   "source": [
    "print('max:',np.max(iris))\n",
    "print('min:',np.min(iris))"
   ]
  },
  {
   "cell_type": "markdown",
   "metadata": {},
   "source": [
    "numpy.unique()函数去除数组或者列表中重复的元素,并按照从小到大的顺序返回没有重复元素的数组或者列表.\n",
    "参数: return_index = True时,不仅返回按照从小到大排序的没有重复元素的列表或者数组,并返回新的列表元素或者数组元素在旧的列表或者数组里面的位置,并以列表的形式存储.\n",
    "return_inverse = True 返回旧的列表元素或者数组在新列表或者数组里面的位置,并以列表的形式存储\n",
    "return_counts=True 返回列表或者数组里面元素重复的个数,并以列表的形式存储`"
   ]
  },
  {
   "cell_type": "code",
   "execution_count": 42,
   "metadata": {},
   "outputs": [
    {
     "name": "stdout",
     "output_type": "stream",
     "text": [
      "[4.3 4.4 4.5 4.6 4.7 4.8 4.9 5.  5.1 5.2 5.3 5.4 5.5 5.6 5.7 5.8 5.9 6.\n",
      " 6.1 6.2 6.3 6.4 6.5 6.6 6.7 6.8 6.9 7.  7.1 7.2 7.3 7.4 7.6 7.7 7.9]\n"
     ]
    }
   ],
   "source": [
    "sortiris=np.unique(iris) #直接用unique去重并排序\n",
    "print(sortiris)"
   ]
  },
  {
   "cell_type": "markdown",
   "metadata": {},
   "source": [
    "mean() 函数定义：\n",
    "numpy.mean(a, axis, dtype, out，keepdims )\n",
    "axis 不设置值，对 m*n 个数求均值，返回一个实数\n",
    "axis = 0：压缩行，对各列求均值，返回 1* n 矩阵\n",
    "axis =1 ：压缩列，对各行求均值，返回 m *1 矩阵"
   ]
  },
  {
   "cell_type": "code",
   "execution_count": 43,
   "metadata": {},
   "outputs": [
    {
     "name": "stdout",
     "output_type": "stream",
     "text": [
      "5.843333333333334\n"
     ]
    }
   ],
   "source": [
    "averiris=np.mean(iris) \n",
    "print(averiris)"
   ]
  },
  {
   "cell_type": "markdown",
   "metadata": {},
   "source": [
    "\n",
    " 方差\n",
    "np.var(arr)\n",
    "\n",
    " 标准差\n",
    "np.std(arr)"
   ]
  },
  {
   "cell_type": "code",
   "execution_count": 44,
   "metadata": {},
   "outputs": [
    {
     "name": "stdout",
     "output_type": "stream",
     "text": [
      "方差：0.681122 标准差：0.825301\n"
     ]
    }
   ],
   "source": [
    "variris=np.var(iris)\n",
    "stdiris=np.std(iris)\n",
    "print('方差：%f 标准差：%f'%(variris,stdiris))"
   ]
  },
  {
   "cell_type": "markdown",
   "metadata": {},
   "source": [
    "sum() 没有axis参数表示全部数据相加\n",
    "\n",
    "axis=0，表示按列相加\n",
    "\n",
    "axis=1，表示按行相加"
   ]
  },
  {
   "cell_type": "code",
   "execution_count": 45,
   "metadata": {},
   "outputs": [
    {
     "name": "stdout",
     "output_type": "stream",
     "text": [
      "876.5\n"
     ]
    }
   ],
   "source": [
    "sumiris=np.sum(iris)\n",
    "print(sumiris)"
   ]
  },
  {
   "cell_type": "code",
   "execution_count": 46,
   "metadata": {},
   "outputs": [
    {
     "name": "stdout",
     "output_type": "stream",
     "text": [
      "[  4.3   8.7  13.1  17.5  22.   26.6  31.2  35.8  40.4  45.1  49.8  54.6\n",
      "  59.4  64.2  69.   73.8  78.7  83.6  88.5  93.4  98.3 103.2 108.2 113.2\n",
      " 118.2 123.2 128.2 133.2 138.2 143.2 148.2 153.2 158.3 163.4 168.5 173.6\n",
      " 178.7 183.8 188.9 194.  199.1 204.3 209.5 214.7 219.9 225.2 230.6 236.\n",
      " 241.4 246.8 252.2 257.6 263.1 268.6 274.1 279.6 285.1 290.6 296.1 301.7\n",
      " 307.3 312.9 318.5 324.1 329.7 335.4 341.1 346.8 352.5 358.2 363.9 369.6\n",
      " 375.3 381.1 386.9 392.7 398.5 404.3 410.1 415.9 421.8 427.7 433.6 439.6\n",
      " 445.6 451.6 457.6 463.6 469.6 475.7 481.8 487.9 494.  500.1 506.2 512.4\n",
      " 518.6 524.8 531.  537.3 543.6 549.9 556.2 562.5 568.8 575.1 581.4 587.7\n",
      " 594.1 600.5 606.9 613.3 619.7 626.1 632.5 639.  645.5 652.  658.5 665.\n",
      " 671.6 678.2 684.9 691.6 698.3 705.  711.7 718.4 725.1 731.8 738.6 745.4\n",
      " 752.2 759.1 766.  772.9 779.8 786.8 793.9 801.1 808.3 815.5 822.8 830.2\n",
      " 837.8 845.5 853.2 860.9 868.6 876.5]\n"
     ]
    }
   ],
   "source": [
    "sort_iris=sorted(iris)\n",
    "total=np.cumsum(sort_iris)\n",
    "print(total)"
   ]
  },
  {
   "cell_type": "code",
   "execution_count": 58,
   "metadata": {},
   "outputs": [
    {
     "name": "stdout",
     "output_type": "stream",
     "text": [
      "[7.  6.4 6.9 6.5 6.3 6.6 5.9 6.  6.1 6.7 6.2 5.9 6.1 6.3 6.1 6.4 6.6 6.8\n",
      " 6.7 6.  6.  6.  6.7 6.3 6.1 6.2 6.3 7.1 6.3 6.5 7.6 7.3 6.7 7.2 6.5 6.4\n",
      " 6.8 6.4 6.5 7.7 7.7 6.  6.9 7.7 6.3 6.7 7.2 6.2 6.1 6.4 7.2 7.4 7.9 6.4\n",
      " 6.3 6.1 7.7 6.3 6.4 6.  6.9 6.7 6.9 6.8 6.7 6.7 6.3 6.5 6.2 5.9]\n",
      "70\n"
     ]
    }
   ],
   "source": [
    "print(iris[iris>5.84]) #布尔索引所有大于5.84\n",
    "print((iris>5.84).sum()) #大于5.84的个数"
   ]
  },
  {
   "cell_type": "code",
   "execution_count": null,
   "metadata": {},
   "outputs": [],
   "source": []
  }
 ],
 "metadata": {
  "kernelspec": {
   "display_name": "Python 3",
   "language": "python",
   "name": "python3"
  },
  "language_info": {
   "codemirror_mode": {
    "name": "ipython",
    "version": 3
   },
   "file_extension": ".py",
   "mimetype": "text/x-python",
   "name": "python",
   "nbconvert_exporter": "python",
   "pygments_lexer": "ipython3",
   "version": "3.8.3"
  }
 },
 "nbformat": 4,
 "nbformat_minor": 4
}
